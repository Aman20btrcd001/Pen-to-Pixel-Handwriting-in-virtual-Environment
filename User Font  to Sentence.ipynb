{
 "cells": [
  {
   "cell_type": "markdown",
   "id": "71b9fa3d",
   "metadata": {},
   "source": [
    "## Import statement\n"
   ]
  },
  {
   "cell_type": "code",
   "execution_count": 1,
   "id": "b4ee75b5",
   "metadata": {},
   "outputs": [
    {
     "name": "stdout",
     "output_type": "stream",
     "text": [
      "Choose an option:\n",
      "1. text \n",
      "2. Image upload:\n",
      "Enter your choice (1 or 2): 1\n",
      "enter a word sentences This proposal outlines the development of a private dashboard for Daikibo that will display the health status of 9 machines in each of their 4 factories. The dashboard will be accessible only within the client's intranet and will require authentication synced to their internal authentication server. The dashboard will consist of a single page that lists the current statuses of all monitored devices, which can be expanded or collapsed at both factory and device levels.\n",
      "Extracted Text:\n",
      "This proposal outlines the development of a private dashboard for Daikibo that will display the health status of 9 machines in each of their 4 factories. The dashboard will be accessible only within the client's intranet and will require authentication synced to their internal authentication server. The dashboard will consist of a single page that lists the current statuses of all monitored devices, which can be expanded or collapsed at both factory and device levels.\n"
     ]
    }
   ],
   "source": [
    "import cv2\n",
    "import pytesseract\n",
    "from tkinter import Tk\n",
    "from tkinter.filedialog import askopenfilename\n",
    "from PIL import Image, ImageDraw, ImageFont\n",
    "\n",
    "\n",
    "# Set up the Tesseract OCR\n",
    "pytesseract.pytesseract.tesseract_cmd=r\"C:\\Program Files\\Tesseract-OCR\\tesseract.exe\"\n",
    "\n",
    "def detect_and_extract_text(image):\n",
    "    # Convert the image to grayscale\n",
    "    gray = cv2.cvtColor(image, cv2.COLOR_BGR2GRAY)\n",
    "\n",
    "    # Apply thresholding to preprocess the image\n",
    "    _, threshold = cv2.threshold(gray, 0, 255, cv2.THRESH_BINARY | cv2.THRESH_OTSU)\n",
    "\n",
    "    # Perform text detection using Tesseract OCR\n",
    "    text = pytesseract.image_to_string(threshold, lang='eng')\n",
    "   \n",
    "\n",
    "    return text\n",
    "\n",
    "# def process_webcam():\n",
    "#     # Initialize webcam\n",
    "#     cap = cv2.VideoCapture(0)\n",
    "#     extracted_text = ''\n",
    "\n",
    "#     while True:\n",
    "#         # Read frame from the webcam\n",
    "#         ret, frame = cap.read()\n",
    "\n",
    "#         # Perform text detection and extraction\n",
    "#         text = detect_and_extract_text(frame)\n",
    "#         extracted_text += text\n",
    "\n",
    "#         # Display the frame with text\n",
    "#         cv2.putText(frame, text, (100, 300), cv2.FONT_HERSHEY_SIMPLEX, 1, (0, 255, 0), 2)\n",
    "#         cv2.imshow('Text Detection (Webcam)', frame)\n",
    "\n",
    "#         # Check for 'q' key press to exit\n",
    "#         if cv2.waitKey(1) & 0xFF == ord('q'):\n",
    "#             break\n",
    "\n",
    "    # Release the webcam and close windows\n",
    "#     cap.release()\n",
    "#     cv2.destroyAllWindows()\n",
    "\n",
    "#     return extracted_text\n",
    "\n",
    "def process_image(image_path):\n",
    "    # Load the image\n",
    "    image = cv2.imread(image_path)\n",
    "\n",
    "    # Perform text detection and extraction\n",
    "    text = detect_and_extract_text(image)\n",
    "\n",
    "    # Display the image with text\n",
    "    cv2.putText(image, text, (150, 400), cv2.FONT_HERSHEY_SIMPLEX, 1, (0, 255, 0), 2)\n",
    "    cv2.imshow('Text Detection (Image)', image)\n",
    "    cv2.waitKey(0)\n",
    "    cv2.destroyAllWindows()\n",
    "\n",
    "    return text\n",
    "\n",
    "# Ask the user to choose between webcam and image\n",
    "print(\"Choose an option:\")\n",
    "print(\"1. text \")\n",
    "# print(\"2. Webcam\")\n",
    "print(\"2. Image upload:\")\n",
    "\n",
    "option = input(\"Enter your choice (1 or 2): \")\n",
    "if option== '1':\n",
    "    extracted_text=input(\"enter a word sentences \")\n",
    "    \n",
    "# elif option == '2':\n",
    "#     # Process the webcam\n",
    "#     extracted_text = process_webcam()\n",
    "elif option == '2':\n",
    "    # Ask the user to select an image file\n",
    "    Tk().withdraw()  # To hide the tkinter window\n",
    "    image_path = askopenfilename(title=\"Select an Image\", filetypes=[(\"Image files\", \"*.jpg *.jpeg *.png\")])\n",
    "\n",
    "    if image_path:\n",
    "        # Process the selected image file\n",
    "        extracted_text = process_image(image_path)\n",
    "    else:\n",
    "        print(\"No image file selected.\")\n",
    "else:\n",
    "    print(\"Invalid option.\")\n",
    "\n",
    "# Print the extracted text\n",
    "print(\"Extracted Text:\")\n",
    "print(extracted_text)"
   ]
  },
  {
   "cell_type": "code",
   "execution_count": 2,
   "id": "6173bd94",
   "metadata": {},
   "outputs": [],
   "source": [
    "from PIL import Image, ImageDraw, ImageFont\n"
   ]
  },
  {
   "cell_type": "code",
   "execution_count": 3,
   "id": "377d71f7",
   "metadata": {},
   "outputs": [],
   "source": [
    "\n",
    "input_sentence = extracted_text"
   ]
  },
  {
   "cell_type": "markdown",
   "id": "b87678ac",
   "metadata": {},
   "source": [
    "## Font Settings\n"
   ]
  },
  {
   "cell_type": "code",
   "execution_count": 10,
   "id": "49024fd0",
   "metadata": {},
   "outputs": [
    {
     "name": "stdout",
     "output_type": "stream",
     "text": [
      "Available font:  Aman bhavna anmol nyasha Vemu jinal vineela Hema sahil Nikunj Lohit Abhishek Venkatesh Arjun\n",
      "Enter the name : lohit\n",
      "Enter Font Size : 40\n"
     ]
    }
   ],
   "source": [
    "print(\"Available font: \",\"Aman\",\"bhavna\",\"anmol\",\"nyasha\",\"Vemu\",\"jinal\",\"vineela\",\"Hema\",\"sahil\",\"Nikunj\",\"Lohit\",\"Abhishek\",\"Venkatesh\",\"Arjun\")\n",
    "\n",
    "available_font={'arjun':'Arjun_font.ttf','bhavna':'Bhavna_font.ttf','nyasha':'Nyasha_font.ttf','venkatesh':'Venkatesh_font.ttf','aman':'Aman_font.ttf','aakash':'Aakash_font.ttf','abhishek':'Abhishek_font.ttf','lohit':'Lohit_font.ttf','nikunj':'Nikunj_font.ttf','sahil':'Sahil_font.ttf','hema':'Hema_font.ttf',\n",
    "                'vineela':'Vineela_font.ttf','jinal':'Jinal_font.ttf','ayaan':'Ayaan_font.ttf','vemu':'Vemu_font.ttf'\n",
    "    \n",
    "}\n",
    "\n",
    "def get_font_path():\n",
    "    font_name=str(input(\"Enter the name : \").lower())\n",
    "    return available_font[font_name]\n",
    "font_path=get_font_path()\n",
    "font_size=int(input(\"Enter Font Size : \"))\n",
    "font =ImageFont.truetype(font_path, font_size)"
   ]
  },
  {
   "cell_type": "code",
   "execution_count": 11,
   "id": "45e74d33",
   "metadata": {},
   "outputs": [],
   "source": [
    "# font_path = \"bhavna.ttf\"  # Provide the path to your desired font file\n",
    "# font_size = 60\n",
    "# font = ImageFont.truetype(font_path, font_size)"
   ]
  },
  {
   "cell_type": "markdown",
   "id": "15c48e9e",
   "metadata": {},
   "source": [
    "## Image Size Creation"
   ]
  },
  {
   "cell_type": "code",
   "execution_count": 12,
   "id": "d6d54b7e",
   "metadata": {},
   "outputs": [],
   "source": [
    "# Calculate Image Size\n",
    "words = input_sentence.split()\n",
    "words_per_line = 10\n",
    "num_lines = (len(words) + words_per_line - 1) // words_per_line\n",
    "line_height = font.getsize(\" \")[1]  # Get the height of a line of text\n",
    "text_width = 0\n",
    "text_height = num_lines * line_height"
   ]
  },
  {
   "cell_type": "markdown",
   "id": "6db71302",
   "metadata": {},
   "source": [
    "## Line breaks in the paragraph"
   ]
  },
  {
   "cell_type": "code",
   "execution_count": 13,
   "id": "16165ae1",
   "metadata": {},
   "outputs": [],
   "source": [
    "# Iterate over words and add line breaks\n",
    "lines = []\n",
    "current_line = []\n",
    "for word in words:\n",
    "    current_line.append(word)\n",
    "    if len(current_line) == words_per_line:\n",
    "        lines.append(\" \".join(current_line))\n",
    "        current_line = []\n",
    "if current_line:\n",
    "    lines.append(\" \".join(current_line))\n",
    "\n",
    "# Calculate Image Size\n",
    "for line in lines:\n",
    "    line_width, _ = font.getsize(line)\n",
    "    text_width = max(text_width, line_width)\n",
    "image_width = text_width + 40  # Add some padding\n",
    "image_height = text_height + 40  # Add some padding"
   ]
  },
  {
   "cell_type": "markdown",
   "id": "c8b774fc",
   "metadata": {},
   "source": [
    "## Image Creation\n"
   ]
  },
  {
   "cell_type": "code",
   "execution_count": 14,
   "id": "a3d28711",
   "metadata": {},
   "outputs": [],
   "source": [
    "# Image Creation\n",
    "image = Image.new(\"RGB\", (image_width, image_height), color=(255, 255, 255))\n",
    "draw = ImageDraw.Draw(image)\n",
    "\n",
    "text_x = (image_width - text_width) // 2  # Center the text horizontally\n",
    "text_y = (image_height - text_height) // 2  # Center the text vertically\n",
    "\n",
    "# Draw lines of text with line breaks\n",
    "y = text_y\n",
    "for line in lines:\n",
    "    line_width, line_height = font.getsize(line)\n",
    "    draw.text((text_x, y), line, fill=(0, 0, 0), font=font)\n",
    "    y += line_height\n"
   ]
  },
  {
   "cell_type": "code",
   "execution_count": 15,
   "id": "4b88aac5",
   "metadata": {},
   "outputs": [],
   "source": [
    "image.show()"
   ]
  },
  {
   "cell_type": "code",
   "execution_count": null,
   "id": "1a3a081f",
   "metadata": {},
   "outputs": [],
   "source": []
  }
 ],
 "metadata": {
  "kernelspec": {
   "display_name": "Python 3 (ipykernel)",
   "language": "python",
   "name": "python3"
  },
  "language_info": {
   "codemirror_mode": {
    "name": "ipython",
    "version": 3
   },
   "file_extension": ".py",
   "mimetype": "text/x-python",
   "name": "python",
   "nbconvert_exporter": "python",
   "pygments_lexer": "ipython3",
   "version": "3.9.12"
  }
 },
 "nbformat": 4,
 "nbformat_minor": 5
}
